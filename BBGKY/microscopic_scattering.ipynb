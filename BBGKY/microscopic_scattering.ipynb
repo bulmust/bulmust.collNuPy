{
 "cells": [
  {
   "cell_type": "markdown",
   "metadata": {},
   "source": [
    "# Microscopic Scattering"
   ]
  },
  {
   "cell_type": "markdown",
   "metadata": {},
   "source": [
    "## For N=2"
   ]
  },
  {
   "cell_type": "markdown",
   "metadata": {},
   "source": [
    "We will staart for two neutrinos. Lets assume that the first particle is A1 and the second particle is B1. Their initial state is\n",
    "\n",
    "$$\n",
    "|A1\\rangle= \\begin{bmatrix}    1\\\\0    \\end{bmatrix}, \\quad |B1\\rangle= \\begin{bmatrix}    0\\\\1    \\end{bmatrix} \\\\\n",
    "|\\Psi\\rangle=|A1\\rangle\\otimes|B1\\rangle\\\\\n",
    "|\\Psi\\rangle= \\begin{bmatrix}    1\\\\0    \\end{bmatrix}\\otimes\\begin{bmatrix}    0\\\\1    \\end{bmatrix}\\\\\n",
    "|\\Psi\\rangle= \\begin{bmatrix}    0\\\\1\\\\0\\\\0    \\end{bmatrix}\n",
    "$$"
   ]
  },
  {
   "cell_type": "markdown",
   "metadata": {},
   "source": [
    "Evolution operator is following.\n",
    "\n",
    "$$\n",
    "U(t)=e^{-iHt} \\approx 1-iHt\n",
    "$$\n",
    "\n",
    "Hamiltonian is following.\n",
    "\n",
    "\\begin{align*}\n",
    "    H=& \\mu_{0} ~~\\sigma^{k}_{A1} \\cdot \\sigma^{k}_{B1} \\\\\n",
    "     =& \\mu_{0} ~~\\sigma_{A1}^{x} \\cdot \\sigma_{B1}^{x} + \\sigma_{A1}^{y} \\cdot \\sigma_{B1}^{y} + \\sigma_{A1}^{z} \\cdot \\sigma_{B1}^{z} \\\\\n",
    "     =& \\mu_{0} ~~\\left(\\sigma^{x}\\otimes I \\right)\\cdot \\left(I\\otimes \\sigma^{x} \\right) + \\left(\\sigma^{y}\\otimes I \\right)\\cdot \\left(I\\otimes \\sigma^{y} \\right) + \\left(\\sigma^{z}\\otimes I \\right)\\cdot \\left(I\\otimes \\sigma^{z} \\right) \\\\\n",
    "\\end{align*}\n",
    "\n",
    "Here $\\sigma^{x}$, $\\sigma^{y}$ and $\\sigma^{z}$ are Pauli matrices.\n",
    "\n",
    "\\begin{align*}\n",
    "   H =& \\mu_{0} ~~\\left(\\begin{bmatrix}    0 & 1\\\\1 & 0    \\end{bmatrix}\\otimes \\begin{bmatrix}    1 & 0\\\\0 & 1    \\end{bmatrix}\\right)\\cdot \n",
    "                  \\left(\\begin{bmatrix}    1 & 0\\\\0 & 1    \\end{bmatrix}\\otimes \\begin{bmatrix}    0 & 1\\\\1 & 0    \\end{bmatrix}\\right)\\\\\n",
    "    &+ \\left(\\begin{bmatrix}    0 & -i\\\\i & 0    \\end{bmatrix}\\otimes \\begin{bmatrix}    1 & 0\\\\0 & 1    \\end{bmatrix}\\right)\\cdot\n",
    "       \\left(\\begin{bmatrix}    1 & 0\\\\0 & 1     \\end{bmatrix}\\otimes \\begin{bmatrix}    0 & -i\\\\i & 0   \\end{bmatrix}\\right)\\\\\n",
    "    &+ \\left(\\begin{bmatrix}    1 & 0\\\\0 & -1    \\end{bmatrix}\\otimes \\begin{bmatrix}    1 & 0\\\\0 & 1    \\end{bmatrix}\\right)\\cdot\n",
    "       \\left(\\begin{bmatrix}    1 & 0\\\\0 & 1     \\end{bmatrix}\\otimes \\begin{bmatrix}    1 & 0\\\\0 & -1   \\end{bmatrix}\\right)\\\\\n",
    "   H =& \\mu_{0} ~~\\left( \\begin{bmatrix}    0 & 0 & 1 & 0\\\\0 & 0 & 0 & 1 \\\\ 1 & 0 & 0 & 0\\\\ 0 & 1 & 0& 0    \\end{bmatrix} \\right) \\cdot \n",
    "                  \\left( \\begin{bmatrix}    0 & 1 & 0 & 0\\\\1 & 0 & 0 & 0 \\\\ 0 & 0 & 0 & 1\\\\ 0 & 0 & 1& 0    \\end{bmatrix} \\right)\\\\\n",
    "    &+ \\left( \\begin{bmatrix}    0 & 0 & -i & 0\\\\0 & 0 & 0 & -i \\\\ i & 0 & 0 & 0\\\\ 0 & i & 0& 0    \\end{bmatrix} \\right) \\cdot \n",
    "       \\left( \\begin{bmatrix}    0 & -i & 0 & 0\\\\i & 0 & 0 & 0 \\\\ 0 & 0 & 0 & -i\\\\ 0 & 0 & i& 0    \\end{bmatrix} \\right)\\\\\n",
    "    &+ \\left( \\begin{bmatrix}    1 & 0 & 0 & 0\\\\0 & 1 & 0 & 0 \\\\ 0 & 0 & -1 & 0\\\\ 0 & 0 & 0& -1    \\end{bmatrix} \\right) \\cdot\n",
    "       \\left( \\begin{bmatrix}    1 & 0 & 0 & 0\\\\0 & -1 & 0 & 0 \\\\ 0 & 0 & 1 & 0\\\\ 0 & 0 & 0& -1    \\end{bmatrix} \\right)\\\\\n",
    "   H =& \\mu_{0} ~~\\left( \\begin{bmatrix}    0 & 0 & 0 & 1 \\\\0 & 0 & 1 & 0 \\\\ 0 & 1 & 0 & 0 \\\\ 1  & 0 & 0& 0    \\end{bmatrix} \\right)\n",
    "                + \\left( \\begin{bmatrix}    0 & 0 & 0 & -1\\\\0 & 0 & 1 & 0 \\\\ 0 & 1 & 0 & 0 \\\\ -1 & 0 & 0& 0    \\end{bmatrix} \\right)\n",
    "                + \\left( \\begin{bmatrix}    1 & 0 & 0 & 0 \\\\0 & -1 & 0 & 0 \\\\ 0 & 0 & -1 & 0\\\\ 0  & 0 & 0& 1    \\end{bmatrix} \\right)\n",
    "\\end{align*}"
   ]
  },
  {
   "cell_type": "markdown",
   "metadata": {},
   "source": [
    "Hamiltonian becomes\n",
    "\n",
    "$$\n",
    "H= \\mu_{0}\\begin{bmatrix}   1 & 0 & 0 & 0 \\\\0 & -1 & 2 & 0 \\\\ 0 & 2 & -1 & 0\\\\ 0  & 0 & 0& 1    \\end{bmatrix}\n",
    "$$"
   ]
  },
  {
   "cell_type": "code",
   "execution_count": 1,
   "metadata": {},
   "outputs": [
    {
     "name": "stdout",
     "output_type": "stream",
     "text": [
      "Hamiltonian for the first level is:\n",
      "[[ 1.+0.j  0.+0.j  0.+0.j  0.+0.j]\n",
      " [ 0.+0.j -1.+0.j  2.+0.j  0.+0.j]\n",
      " [ 0.+0.j  2.+0.j -1.+0.j  0.+0.j]\n",
      " [ 0.+0.j  0.+0.j  0.+0.j  1.+0.j]]\n"
     ]
    }
   ],
   "source": [
    "import numpy as np\n",
    "\n",
    "# Sigma matrices\n",
    "# sigma_mat= [sigma_x, sigma_y, sigma_z]\n",
    "sigma_mat= np.array([[[0, 1], \n",
    "                      [1, 0]], [[0, -1j], \n",
    "                                [1j, 0]], [[1, 0], \n",
    "                                           [0, -1]]])\n",
    "# Hamiltonian for the first level for 2 particles\n",
    "hamiltonian_level1_2particle= np.zeros((4, 4), dtype= complex)\n",
    "for it in range(3):\n",
    "    hamiltonian_level1_2particle= \\\n",
    "        hamiltonian_level1_2particle+ \\\n",
    "            np.kron(sigma_mat[it], np.eye(2)) @ np.kron(np.eye(2), sigma_mat[it])\n",
    "\n",
    "# mu_0 in MeV\n",
    "mu_0__MeV= 1\n",
    "# Multiply by mu_0\n",
    "hamiltonian_level1_2particle= mu_0__MeV* hamiltonian_level1_2particle\n",
    "\n",
    "print(f\"Hamiltonian for the first level is:\\n{hamiltonian_level1_2particle}\")"
   ]
  },
  {
   "cell_type": "markdown",
   "metadata": {},
   "source": [
    "Lets apply this Hamiltonian to the initial state.\n",
    "\n",
    "$$\n",
    "|\\Psi(t)\\rangle=U(t)|\\Psi\\rangle\\\\\n",
    "|\\Psi(t)\\rangle=\\left(I_{4}-iH\\delta t\\right)|\\Psi\\rangle\\\\\n",
    "|\\Psi(t)\\rangle=\\left(\\begin{bmatrix}    1 & 0 & 0 & 0\\\\0 & 1 & 0 & 0\\\\0 & 0 & 1 & 0\\\\0 & 0 & 0 & 1    \\end{bmatrix}-i\\delta t\\mu_{0}\\begin{bmatrix}   1 & 0 & 0 & 0 \\\\0 & -1 & 2 & 0 \\\\ 0 & 2 & -1 & 0\\\\ 0  & 0 & 0& 1    \\end{bmatrix}\\right)\\begin{bmatrix}    0\\\\1\\\\0\\\\0    \\end{bmatrix}\n",
    "$$"
   ]
  },
  {
   "cell_type": "markdown",
   "metadata": {},
   "source": [
    "$$\n",
    "|\\Psi(t)\\rangle=\\begin{bmatrix}    1-i\\mu_{0}\\delta t & 0 & 0 & 0\\\\0 & 1+i\\mu_{0}\\delta t & -2i\\mu_{0}\\delta t & 0\\\\0 & -2i\\mu_{0}\\delta t & 1+i\\mu_{0}\\delta t & 0\\\\0 & 0 & 0 & 1-i\\mu_{0}\\delta t    \\end{bmatrix}\\begin{bmatrix}    0\\\\1\\\\0\\\\0    \\end{bmatrix}\n",
    "$$"
   ]
  },
  {
   "cell_type": "markdown",
   "metadata": {},
   "source": [
    "Final state is\n",
    "\n",
    "$$\n",
    "|\\Psi(t)\\rangle=\\begin{bmatrix}    0\\\\1+i\\mu_{0}\\delta t\\\\-2i\\mu_{0}\\delta t\\\\0    \\end{bmatrix}\n",
    "$$"
   ]
  },
  {
   "cell_type": "code",
   "execution_count": 2,
   "metadata": {},
   "outputs": [
    {
     "name": "stdout",
     "output_type": "stream",
     "text": [
      "Psi(t)> = (mu0 [MeV]=1 and delta t [1/MeV]=1)\n",
      " [0.+0.j 1.+1.j 0.-2.j 0.+0.j]\n"
     ]
    }
   ],
   "source": [
    "delta_t__1_MeV= 1\n",
    "\n",
    "# Create All Psi Vector\n",
    "psiAll_2Particle= np.zeros((2, 4), dtype= complex)\n",
    "# Initial State\n",
    "psiAll_2Particle[0]= np.array([0, 1, 0, 0])\n",
    "# Final State\n",
    "psiAll_2Particle[1]= (np.eye(4)- 1j* hamiltonian_level1_2particle* delta_t__1_MeV) @ psiAll_2Particle[0]\n",
    "# Print Final State\n",
    "print(f\"Psi(t)> = (mu0 [MeV]={mu_0__MeV} and delta t [1/MeV]={delta_t__1_MeV})\\n {psiAll_2Particle[1]}\")\n"
   ]
  },
  {
   "cell_type": "markdown",
   "metadata": {},
   "source": [
    "## For N=4"
   ]
  },
  {
   "cell_type": "markdown",
   "metadata": {},
   "source": [
    "### One Big Hamiltonian For All Steps\n",
    "\n",
    "Hamiltonian is following.\n",
    "\n",
    "\\begin{align*}\n",
    "    H=&\\sum_{\\alpha, i}^{2} \\epsilon_{\\alpha i} \\Sigma_{\\alpha i}\\\\\n",
    "    =&\\epsilon_{11}\\Sigma_{11} + \\epsilon_{12}\\Sigma_{12} + \\epsilon_{21}\\Sigma_{21} + \\epsilon_{22}\\Sigma_{22}\n",
    "\\end{align*}\n",
    "\n",
    "Here Greek letters correspond to A particle, Latin letters corresspond to B particle. In other words, $\\alpha\\equiv A_{1}, A_{2}, \\quad i\\equiv B1, B2$.\n",
    "\n",
    "There are 3 scattering step (or time) for 4 particle and $\\epsilon_{ij}$ is the parameter that is related to scattering order.\n",
    "\n",
    "At $t=t_{0}$:\n",
    "\n",
    "$\\epsilon_{11}=1$, and $\\epsilon_{12,21,22}=0$.\n",
    "\n",
    "At $t=t_{1}$:\n",
    "\n",
    "$\\epsilon_{12,21}=1$, and $\\epsilon_{11,22}=0$.\n",
    "\n",
    "At $t=t_{2}$:\n",
    "\n",
    "$\\epsilon_{22}=1$, and $\\epsilon_{11,12,21}=0$.\n",
    "\n",
    "The $\\Sigma_{\\alpha j}$ terms that gives scattering and is related to Pauli spin matrices are defined as follows. They are written in matrix form."
   ]
  },
  {
   "cell_type": "markdown",
   "metadata": {},
   "source": [
    "\\begin{align*}\n",
    "    H= &\\epsilon_{11}  ~\\Sigma_{11}\\\\\n",
    "        &+\\epsilon_{12} ~\\Sigma_{12}\\\\\n",
    "        &+\\epsilon_{21} ~\\Sigma_{21}\\\\\n",
    "        &+\\epsilon_{22} ~\\Sigma_{22}\n",
    "\\end{align*}\n",
    "\n",
    "\\begin{align*}\n",
    "    H= &\\epsilon_{11}   [~(\\vec{\\sigma} \\otimes I \\otimes I \\otimes I)\\cdot (I \\otimes I \\otimes \\vec{\\sigma} \\otimes I)~]\\\\\n",
    "        &+\\epsilon_{12} [~(\\vec{\\sigma} \\otimes I \\otimes I \\otimes I)\\cdot (I \\otimes I \\otimes I \\otimes \\vec{\\sigma})~]\\\\\n",
    "        &+\\epsilon_{21} [~(I \\otimes \\vec{\\sigma} \\otimes I \\otimes I)\\cdot (I \\otimes I \\otimes \\vec{\\sigma} \\otimes I)~]\\\\\n",
    "        &+\\epsilon_{22} [~(I \\otimes \\vec{\\sigma} \\otimes I \\otimes I)\\cdot (I \\otimes I \\otimes I \\otimes \\vec{\\sigma})~]\n",
    "\\end{align*}\n",
    "\n",
    "\\begin{align*}\n",
    "    H= &\\epsilon_{11}  \\left(~\\sum_{k}(\\sigma^{k} \\otimes I \\otimes I \\otimes I)(I \\otimes I \\otimes \\sigma^{k} \\otimes I)~ \\right)\\\\\n",
    "        &+\\epsilon_{12} \\left(~\\sum_{k}(\\sigma^{k} \\otimes I \\otimes I \\otimes I) (I \\otimes I \\otimes I \\otimes \\sigma^{k})~\\right)\\\\\n",
    "        &+\\epsilon_{21} \\left(~\\sum_{k}(I \\otimes \\sigma^{k} \\otimes I \\otimes I) (I \\otimes I \\otimes \\sigma^{k} \\otimes I)~\\right)\\\\\n",
    "        &+\\epsilon_{22} \\left(~\\sum_{k}(I \\otimes \\sigma^{k} \\otimes I \\otimes I) (I \\otimes I \\otimes I \\otimes \\sigma^{k})~\\right)\n",
    "\\end{align*}"
   ]
  },
  {
   "cell_type": "markdown",
   "metadata": {},
   "source": [
    "Lets write a Python function."
   ]
  },
  {
   "cell_type": "code",
   "execution_count": 3,
   "metadata": {},
   "outputs": [],
   "source": [
    "import numpy as np\n",
    "# Sigma matrices\n",
    "# sigma_mat= [sigma_x, sigma_y, sigma_z]\n",
    "sigma_mat= np.array([[[0, 1], \n",
    "                      [1, 0]], [[0, -1j], \n",
    "                                [1j, 0]], [[1, 0], \n",
    "                                           [0, -1]]])\n",
    "#! =====================\n",
    "#! Functions\n",
    "#! =====================\n",
    "# Hamiltonian for 2 particles\n",
    "def hamiltonian_2_particle(mu_0__MeV):\n",
    "    hamilt_Big= np.zeros((4, 4), dtype= complex)\n",
    "    for it in range(3):\n",
    "        hamilt_Big= hamilt_Big+ np.kron(sigma_mat[it], np.eye(2)) @ np.kron(np.eye(2), sigma_mat[it])\n",
    "    return mu_0__MeV* hamilt_Big\n",
    "# Hamiltonian for 4 particles\n",
    "def hamiltonian_4_particle(mu_0__MeV):\n",
    "    particleNum= 4\n",
    "    noOfEneutrinos= 2\n",
    "    noOfXneutrinos= 2\n",
    "\n",
    "    # Create Big Hamiltonian\n",
    "    hamilt_Big= np.zeros((noOfEneutrinos, noOfXneutrinos), dtype=object)\n",
    "    for it in range(noOfEneutrinos):\n",
    "        for it2 in range(noOfXneutrinos): \n",
    "            hamilt_Big[it, it2]= np.zeros((2**particleNum, 2**particleNum))\n",
    "    \n",
    "    # 4 Particle\n",
    "    for it in range(3):\n",
    "        hamilt_Big[0,0]= hamilt_Big[0,0]+ np.kron(sigma_mat[it], np.kron(np.eye(2), np.kron(np.eye(2), np.eye(2)))) @ np.kron(np.eye(2), np.kron(np.eye(2), np.kron(sigma_mat[it], np.eye(2))))\n",
    "        hamilt_Big[0,1]= hamilt_Big[0,1]+ np.kron(sigma_mat[it], np.kron(np.eye(2), np.kron(np.eye(2), np.eye(2)))) @ np.kron(np.eye(2), np.kron(np.eye(2), np.kron(np.eye(2), sigma_mat[it])))\n",
    "        hamilt_Big[1,0]= hamilt_Big[1,0]+ np.kron(np.eye(2), np.kron(sigma_mat[it], np.kron(np.eye(2), np.eye(2)))) @ np.kron(np.eye(2), np.kron(np.eye(2), np.kron(sigma_mat[it], np.eye(2))))\n",
    "        hamilt_Big[1,1]= hamilt_Big[1,1]+ np.kron(np.eye(2), np.kron(sigma_mat[it], np.kron(np.eye(2), np.eye(2)))) @ np.kron(np.eye(2), np.kron(np.eye(2), np.kron(np.eye(2), sigma_mat[it])))\n",
    "    \n",
    "    return mu_0__MeV* hamilt_Big\n",
    "# Hamiltonian for N particles\n",
    "def hamiltonian(mu_0__MeV, noOfEneutrinos, noOfXneutrinos):\n",
    "    particleNum= noOfEneutrinos+ noOfXneutrinos\n",
    "    \n",
    "    # Create Big Hamiltonian\n",
    "    hamilt= np.zeros((noOfEneutrinos, noOfXneutrinos), dtype=object)\n",
    "    for it in range(noOfEneutrinos):\n",
    "        for it2 in range(noOfXneutrinos): \n",
    "            hamilt[it, it2]= np.zeros((2**particleNum, 2**particleNum))\n",
    "\n",
    "    # Left Part\n",
    "    leftPart= np.zeros((len(sigma_mat), noOfEneutrinos), dtype=object)\n",
    "    # leftPart[sigma^k, row] => k= 0,1,2 and row number equals to Hamilt's row number  \n",
    "    \n",
    "    # Test String\n",
    "    #testStr= ['']* noOfEneutrinos\n",
    "    for it in range(len(sigma_mat)): # elements of sigma_mat\n",
    "        for it2 in range(noOfEneutrinos): # row number of Hamilt\n",
    "            # First element\n",
    "            if it2 == 0 :\n",
    "                #testStr[it2]+= 's'\n",
    "                leftPart[it, it2]= sigma_mat[it]\n",
    "            else:\n",
    "                #testStr[it2]+= 'e'\n",
    "                leftPart[it, it2]= np.eye(2)\n",
    "            # Fill other elements\n",
    "            for it3 in range(1, noOfEneutrinos): \n",
    "                if it2 != it3:\n",
    "                    #testStr[it2]+= 'e'\n",
    "                    leftPart[it, it2]= np.kron(leftPart[it,it2], np.eye(2))\n",
    "                else:\n",
    "                    #testStr[it2]+= 's'\n",
    "                    leftPart[it, it2]= np.kron(leftPart[it,it2], sigma_mat[it])\n",
    "            # Fill X Part I x I x ... x I (noOfXneutrinos times)\n",
    "            for it3 in range(noOfXneutrinos):\n",
    "                #testStr[it2]+= 'e'\n",
    "                leftPart[it, it2]= np.kron(leftPart[it,it2], np.eye(2))\n",
    "        #print(testStr)\n",
    "        #exit('')\n",
    "        \n",
    "    # Right Part\n",
    "    rightPart= np.zeros((len(sigma_mat), noOfXneutrinos), dtype=object)\n",
    "\n",
    "    for it in range(len(sigma_mat)): # elements of sigma_mat\n",
    "        # Fill Electron Part I x I x ... x I (noOfEneutrinos times)\n",
    "        for it2 in range(noOfEneutrinos): \n",
    "            rightPart[it, it2]= np.eye(2)\n",
    "        # Test String\n",
    "        #testStr2 = ['e']* noOfXneutrinos\n",
    "        for it2 in range(noOfXneutrinos): # column number of Hamilt\n",
    "            for it3 in range(1, noOfEneutrinos):\n",
    "                #testStr2[it2]+= 'e'\n",
    "                rightPart[it, it2]= np.kron(rightPart[it,it2], np.eye(2))\n",
    "            #print('Electron Part filled: shape is 'np.shape(rightPart[it,it2]))\n",
    "            # Fill other elements\n",
    "            for it3 in range(noOfEneutrinos, noOfEneutrinos+ noOfXneutrinos):\n",
    "                #print(noOfEneutrinos+it2, it3)\n",
    "                if noOfEneutrinos+it2 != it3:\n",
    "                    #testStr2[it2]+= 'e'\n",
    "                    rightPart[it, it2]= np.kron(rightPart[it,it2], np.eye(2))\n",
    "                else:\n",
    "                    #testStr2[it2]+= 's'\n",
    "                    rightPart[it, it2]= np.kron(rightPart[it,it2], sigma_mat[it])\n",
    "            #print('===')\n",
    "        #print(testStr2)\n",
    "        #exit('')\n",
    "    for it in range(len(sigma_mat)):\n",
    "        for it2 in range(noOfEneutrinos): # Left Part\n",
    "            for it3 in range(noOfXneutrinos): # Right Part\n",
    "                #print(np.shape(leftPart[it,it2]), np.shape(rightPart[it,it3]))\n",
    "                hamilt[it2, it3]= hamilt[it2, it3]+ leftPart[it, it2] @ rightPart[it, it3]\n",
    "                    \n",
    "    return hamilt* mu_0__MeV"
   ]
  },
  {
   "cell_type": "markdown",
   "metadata": {},
   "source": [
    "### Comparision of Manual Calculation and Automated Calculation"
   ]
  },
  {
   "cell_type": "markdown",
   "metadata": {},
   "source": [
    "#### For N=2"
   ]
  },
  {
   "cell_type": "code",
   "execution_count": 4,
   "metadata": {},
   "outputs": [
    {
     "name": "stdout",
     "output_type": "stream",
     "text": [
      "====================\n",
      "Check Manual Calculated Hamiltonian and Automated Calculated Hamiltonian are equal or not.\n",
      "mu_0= 1 MeV\n",
      "====================\n",
      "For N=2 (1 Electron and 1 Xneutrino)\n",
      "       B1\n",
      "        \\\n",
      "A1 => ---*---\n",
      "          \\  \n",
      "One Crossing, 1 Hamiltonian: Dimension is (4, 4).\n",
      "Check Manual Calculated Hamiltonian and Automated Calculated Hamiltonian:\n",
      "\n",
      "---------------------\n",
      "True True True True \n",
      "True True True True \n",
      "True True True True \n",
      "True True True True \n",
      "---------------------\n"
     ]
    }
   ],
   "source": [
    "print('====================')\n",
    "print('Check Manual Calculated Hamiltonian and Automated Calculated Hamiltonian are equal or not.')\n",
    "mu_0__MeV= 1\n",
    "print(f'mu_0= {mu_0__MeV} MeV')\n",
    "print('====================')\n",
    "print('For N=2 (1 Electron and 1 Xneutrino)')\n",
    "print('       B1')\n",
    "print('        \\\\')\n",
    "print('A1 => ---*---')\n",
    "print('          \\\\  ')\n",
    "print(f\"One Crossing, 1 Hamiltonian: Dimension is {np.shape(hamiltonian_2_particle(1))}.\")\n",
    "print('Check Manual Calculated Hamiltonian and Automated Calculated Hamiltonian:\\n')\n",
    "# Manual Calculation\n",
    "manual= hamiltonian_2_particle(mu_0__MeV)\n",
    "# Automated Calculation\n",
    "auto= hamiltonian(mu_0__MeV, noOfEneutrinos=1, noOfXneutrinos=1)\n",
    "print('---------------------')\n",
    "# Check Them\n",
    "for it in range(np.shape(manual)[0]):\n",
    "    for it2 in range(np.shape(manual)[1]):\n",
    "        print(f\"{manual[it,it2] == auto[0,0][it,it2]} \", end='')\n",
    "    print('')\n",
    "print('---------------------')"
   ]
  },
  {
   "cell_type": "markdown",
   "metadata": {},
   "source": [
    "#### For N=4"
   ]
  },
  {
   "cell_type": "code",
   "execution_count": 5,
   "metadata": {},
   "outputs": [
    {
     "name": "stdout",
     "output_type": "stream",
     "text": [
      "====================\n",
      "For N=2 (1 Electron and 1 Xneutrino)\n",
      "       B1  B2\n",
      "        \\   \\\n",
      "A1 => ---*---*---\n",
      "A2 => ---*---*---\n",
      "          \\   \\\n",
      "4 Crossing, 4 Hamiltonian: Dimension is (2, 2).\n",
      "Σ(0,0) => A1-B1\n",
      "Σ(0,1) => A1-B2\n",
      "Σ(1,0) => A2-B1\n",
      "Σ(1,1) => A2-B2\n",
      "Check Manual Calculated Hamiltonian and Automated Calculated Hamiltonian:\n",
      "\n",
      "---------------------\n",
      "Σ(0,0)= \t(256 elements)\n",
      "True True True True True True True True True True True True True True True True True True True True True True True True True True True True True True True True True True True True True True True True True True True True True True True True True True True True True True True True True True True True True True True True True True True True True True True True True True True True True True True True True True True True True True True True True True True True True True True True True True True True True True True True True True True True True True True True True True True True True True True True True True True True True True True True True True True True True True True True True True True True True True True True True True True True True True True True True True True True True True True True True True True True True True True True True True True True True True True True True True True True True True True True True True True True True True True True True True True True True True True True True True True True True True True True True True True True True True True True True True True True True True True True True True True True True True True True True True True True True True True True True True True True True True True True True True True True True True True True \n",
      "Σ(0,1)= \t(256 elements)\n",
      "True True True True True True True True True True True True True True True True True True True True True True True True True True True True True True True True True True True True True True True True True True True True True True True True True True True True True True True True True True True True True True True True True True True True True True True True True True True True True True True True True True True True True True True True True True True True True True True True True True True True True True True True True True True True True True True True True True True True True True True True True True True True True True True True True True True True True True True True True True True True True True True True True True True True True True True True True True True True True True True True True True True True True True True True True True True True True True True True True True True True True True True True True True True True True True True True True True True True True True True True True True True True True True True True True True True True True True True True True True True True True True True True True True True True True True True True True True True True True True True True True True True True True True True True True True True True True True True True \n",
      "Σ(1,0)= \t(256 elements)\n",
      "True True True True True True True True True True True True True True True True True True True True True True True True True True True True True True True True True True True True True True True True True True True True True True True True True True True True True True True True True True True True True True True True True True True True True True True True True True True True True True True True True True True True True True True True True True True True True True True True True True True True True True True True True True True True True True True True True True True True True True True True True True True True True True True True True True True True True True True True True True True True True True True True True True True True True True True True True True True True True True True True True True True True True True True True True True True True True True True True True True True True True True True True True True True True True True True True True True True True True True True True True True True True True True True True True True True True True True True True True True True True True True True True True True True True True True True True True True True True True True True True True True True True True True True True True True True True True True True True \n",
      "Σ(1,1)= \t(256 elements)\n",
      "True True True True True True True True True True True True True True True True True True True True True True True True True True True True True True True True True True True True True True True True True True True True True True True True True True True True True True True True True True True True True True True True True True True True True True True True True True True True True True True True True True True True True True True True True True True True True True True True True True True True True True True True True True True True True True True True True True True True True True True True True True True True True True True True True True True True True True True True True True True True True True True True True True True True True True True True True True True True True True True True True True True True True True True True True True True True True True True True True True True True True True True True True True True True True True True True True True True True True True True True True True True True True True True True True True True True True True True True True True True True True True True True True True True True True True True True True True True True True True True True True True True True True True True True True True True True True True True True \n",
      "---------------------\n",
      "Hamiltonian = ε(0,0) Σ(0,0)\n",
      "             + ε(0,1) Σ(0,1)\n",
      "             + ε(1,0) Σ(1,0)\n",
      "             + ε(1,1) Σ(1,1)\n"
     ]
    }
   ],
   "source": [
    "print('====================')\n",
    "print('For N=2 (1 Electron and 1 Xneutrino)')\n",
    "print('       B1  B2')\n",
    "print('        \\\\   \\\\')\n",
    "print('A1 => ---*---*---')\n",
    "print('A2 => ---*---*---')\n",
    "print('          \\\\   \\\\')\n",
    "print(f\"4 Crossing, 4 Hamiltonian: Dimension is {np.shape(hamiltonian_4_particle(1))}.\")\n",
    "print(\"Σ(0,0) => A1-B1\")\n",
    "print(\"Σ(0,1) => A1-B2\")\n",
    "print(\"Σ(1,0) => A2-B1\")\n",
    "print(\"Σ(1,1) => A2-B2\")\n",
    "print('Check Manual Calculated Hamiltonian and Automated Calculated Hamiltonian:\\n')\n",
    "# Manual Calculation\n",
    "manual4= hamiltonian_4_particle(mu_0__MeV)\n",
    "# Automated Calculation\n",
    "auto4= hamiltonian(mu_0__MeV, noOfEneutrinos=2, noOfXneutrinos=2)\n",
    "print('---------------------')\n",
    "# Check Them\n",
    "for it1 in range(np.shape(manual4)[0]):\n",
    "    for it2 in range(np.shape(manual4)[1]):\n",
    "        print(f\"Σ({it1},{it2})= \\t({np.shape(manual4[0,0])[0]* np.shape(manual4[0,0])[1]} elements)\")\n",
    "        for it3 in range(np.shape(manual4[0,0])[0]):\n",
    "            for it4 in range(np.shape(manual4[0,0])[1]):\n",
    "                print(f\"{manual4[it1,it2][it3,it4] == auto4[it1,it2][it3,it4]} \", end='')\n",
    "            #print('')\n",
    "        print('')\n",
    "print('---------------------')\n",
    "print('Hamiltonian = ε(0,0) Σ(0,0)')\n",
    "print('             + ε(0,1) Σ(0,1)')\n",
    "print('             + ε(1,0) Σ(1,0)')\n",
    "print('             + ε(1,1) Σ(1,1)')"
   ]
  },
  {
   "cell_type": "markdown",
   "metadata": {},
   "source": [
    "Here $\\epsilon$ matrix can be compacted by 3 different matrix or array of matrix. Lets say $\\epsilon^{1}$, $\\epsilon^{2}$ and $\\epsilon^{3}$.\n",
    "\n",
    "$\\epsilon^{1}$ matrix corresponds to first node. In other words, it corresponds to A1-B1 scattering.\n",
    "\n",
    "$$\n",
    "\\epsilon^{1}=\\begin{bmatrix}    1 & 0 \\\\ 0 & 1    \\end{bmatrix}\n",
    "$$\n",
    "\n",
    "$\\epsilon^{2}$ matrix corresponds to second node. In other words, it corresponds to A1-B2 and A2-B1 scattering.\n",
    "\n",
    "$$\n",
    "\\epsilon^{2}=\\begin{bmatrix}    0 & 1 \\\\ 1 & 0    \\end{bmatrix}\n",
    "$$\n",
    "\n",
    "$\\epsilon^{3}$ matrix corresponds to third node. In other words, it corresponds to A2-B2 scattering.\n",
    "\n",
    "$$\n",
    "\\epsilon^{3}=\\begin{bmatrix}    0 & 0 \\\\ 0 & 1    \\end{bmatrix}\n",
    "$$"
   ]
  }
 ],
 "metadata": {
  "kernelspec": {
   "display_name": "Python 3",
   "language": "python",
   "name": "python3"
  },
  "language_info": {
   "codemirror_mode": {
    "name": "ipython",
    "version": 3
   },
   "file_extension": ".py",
   "mimetype": "text/x-python",
   "name": "python",
   "nbconvert_exporter": "python",
   "pygments_lexer": "ipython3",
   "version": "3.10.12"
  }
 },
 "nbformat": 4,
 "nbformat_minor": 2
}
